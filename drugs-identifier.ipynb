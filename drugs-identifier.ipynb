{
 "cells": [
  {
   "cell_type": "code",
   "execution_count": 1,
   "id": "b5b5dd1c",
   "metadata": {
    "execution": {
     "iopub.execute_input": "2024-04-14T13:17:25.826766Z",
     "iopub.status.busy": "2024-04-14T13:17:25.825655Z",
     "iopub.status.idle": "2024-04-14T13:17:27.989988Z",
     "shell.execute_reply": "2024-04-14T13:17:27.988889Z"
    },
    "papermill": {
     "duration": 2.173327,
     "end_time": "2024-04-14T13:17:27.992414",
     "exception": false,
     "start_time": "2024-04-14T13:17:25.819087",
     "status": "completed"
    },
    "tags": []
   },
   "outputs": [],
   "source": [
    "import numpy as np # handling data structure\n",
    "import pandas as pd\n",
    "import matplotlib.pyplot as plt #handling the plot creation\n",
    "import seaborn as sn #Handling the creation of graphs with data"
   ]
  },
  {
   "cell_type": "markdown",
   "id": "4c98077a",
   "metadata": {
    "papermill": {
     "duration": 0.00424,
     "end_time": "2024-04-14T13:17:28.001820",
     "exception": false,
     "start_time": "2024-04-14T13:17:27.997580",
     "status": "completed"
    },
    "tags": []
   },
   "source": [
    "# **Analising the Data**"
   ]
  },
  {
   "cell_type": "code",
   "execution_count": 2,
   "id": "5fda6ba0",
   "metadata": {
    "execution": {
     "iopub.execute_input": "2024-04-14T13:17:28.012805Z",
     "iopub.status.busy": "2024-04-14T13:17:28.012261Z",
     "iopub.status.idle": "2024-04-14T13:17:28.029764Z",
     "shell.execute_reply": "2024-04-14T13:17:28.028701Z"
    },
    "papermill": {
     "duration": 0.025649,
     "end_time": "2024-04-14T13:17:28.032232",
     "exception": false,
     "start_time": "2024-04-14T13:17:28.006583",
     "status": "completed"
    },
    "tags": []
   },
   "outputs": [],
   "source": [
    "drug_data = pd.read_csv(\"/kaggle/input/drug-data/drug200.csv\")"
   ]
  },
  {
   "cell_type": "code",
   "execution_count": 3,
   "id": "4a2332d1",
   "metadata": {
    "execution": {
     "iopub.execute_input": "2024-04-14T13:17:28.042681Z",
     "iopub.status.busy": "2024-04-14T13:17:28.042281Z",
     "iopub.status.idle": "2024-04-14T13:17:28.069976Z",
     "shell.execute_reply": "2024-04-14T13:17:28.068812Z"
    },
    "papermill": {
     "duration": 0.035298,
     "end_time": "2024-04-14T13:17:28.072151",
     "exception": false,
     "start_time": "2024-04-14T13:17:28.036853",
     "status": "completed"
    },
    "tags": []
   },
   "outputs": [
    {
     "data": {
      "text/html": [
       "<div>\n",
       "<style scoped>\n",
       "    .dataframe tbody tr th:only-of-type {\n",
       "        vertical-align: middle;\n",
       "    }\n",
       "\n",
       "    .dataframe tbody tr th {\n",
       "        vertical-align: top;\n",
       "    }\n",
       "\n",
       "    .dataframe thead th {\n",
       "        text-align: right;\n",
       "    }\n",
       "</style>\n",
       "<table border=\"1\" class=\"dataframe\">\n",
       "  <thead>\n",
       "    <tr style=\"text-align: right;\">\n",
       "      <th></th>\n",
       "      <th>Age</th>\n",
       "      <th>Sex</th>\n",
       "      <th>BP</th>\n",
       "      <th>Cholesterol</th>\n",
       "      <th>Na_to_K</th>\n",
       "      <th>Drug</th>\n",
       "    </tr>\n",
       "  </thead>\n",
       "  <tbody>\n",
       "    <tr>\n",
       "      <th>0</th>\n",
       "      <td>23</td>\n",
       "      <td>F</td>\n",
       "      <td>HIGH</td>\n",
       "      <td>HIGH</td>\n",
       "      <td>25.355</td>\n",
       "      <td>DrugY</td>\n",
       "    </tr>\n",
       "    <tr>\n",
       "      <th>1</th>\n",
       "      <td>47</td>\n",
       "      <td>M</td>\n",
       "      <td>LOW</td>\n",
       "      <td>HIGH</td>\n",
       "      <td>13.093</td>\n",
       "      <td>drugC</td>\n",
       "    </tr>\n",
       "    <tr>\n",
       "      <th>2</th>\n",
       "      <td>47</td>\n",
       "      <td>M</td>\n",
       "      <td>LOW</td>\n",
       "      <td>HIGH</td>\n",
       "      <td>10.114</td>\n",
       "      <td>drugC</td>\n",
       "    </tr>\n",
       "    <tr>\n",
       "      <th>3</th>\n",
       "      <td>28</td>\n",
       "      <td>F</td>\n",
       "      <td>NORMAL</td>\n",
       "      <td>HIGH</td>\n",
       "      <td>7.798</td>\n",
       "      <td>drugX</td>\n",
       "    </tr>\n",
       "    <tr>\n",
       "      <th>4</th>\n",
       "      <td>61</td>\n",
       "      <td>F</td>\n",
       "      <td>LOW</td>\n",
       "      <td>HIGH</td>\n",
       "      <td>18.043</td>\n",
       "      <td>DrugY</td>\n",
       "    </tr>\n",
       "    <tr>\n",
       "      <th>...</th>\n",
       "      <td>...</td>\n",
       "      <td>...</td>\n",
       "      <td>...</td>\n",
       "      <td>...</td>\n",
       "      <td>...</td>\n",
       "      <td>...</td>\n",
       "    </tr>\n",
       "    <tr>\n",
       "      <th>195</th>\n",
       "      <td>56</td>\n",
       "      <td>F</td>\n",
       "      <td>LOW</td>\n",
       "      <td>HIGH</td>\n",
       "      <td>11.567</td>\n",
       "      <td>drugC</td>\n",
       "    </tr>\n",
       "    <tr>\n",
       "      <th>196</th>\n",
       "      <td>16</td>\n",
       "      <td>M</td>\n",
       "      <td>LOW</td>\n",
       "      <td>HIGH</td>\n",
       "      <td>12.006</td>\n",
       "      <td>drugC</td>\n",
       "    </tr>\n",
       "    <tr>\n",
       "      <th>197</th>\n",
       "      <td>52</td>\n",
       "      <td>M</td>\n",
       "      <td>NORMAL</td>\n",
       "      <td>HIGH</td>\n",
       "      <td>9.894</td>\n",
       "      <td>drugX</td>\n",
       "    </tr>\n",
       "    <tr>\n",
       "      <th>198</th>\n",
       "      <td>23</td>\n",
       "      <td>M</td>\n",
       "      <td>NORMAL</td>\n",
       "      <td>NORMAL</td>\n",
       "      <td>14.020</td>\n",
       "      <td>drugX</td>\n",
       "    </tr>\n",
       "    <tr>\n",
       "      <th>199</th>\n",
       "      <td>40</td>\n",
       "      <td>F</td>\n",
       "      <td>LOW</td>\n",
       "      <td>NORMAL</td>\n",
       "      <td>11.349</td>\n",
       "      <td>drugX</td>\n",
       "    </tr>\n",
       "  </tbody>\n",
       "</table>\n",
       "<p>200 rows × 6 columns</p>\n",
       "</div>"
      ],
      "text/plain": [
       "     Age Sex      BP Cholesterol  Na_to_K   Drug\n",
       "0     23   F    HIGH        HIGH   25.355  DrugY\n",
       "1     47   M     LOW        HIGH   13.093  drugC\n",
       "2     47   M     LOW        HIGH   10.114  drugC\n",
       "3     28   F  NORMAL        HIGH    7.798  drugX\n",
       "4     61   F     LOW        HIGH   18.043  DrugY\n",
       "..   ...  ..     ...         ...      ...    ...\n",
       "195   56   F     LOW        HIGH   11.567  drugC\n",
       "196   16   M     LOW        HIGH   12.006  drugC\n",
       "197   52   M  NORMAL        HIGH    9.894  drugX\n",
       "198   23   M  NORMAL      NORMAL   14.020  drugX\n",
       "199   40   F     LOW      NORMAL   11.349  drugX\n",
       "\n",
       "[200 rows x 6 columns]"
      ]
     },
     "execution_count": 3,
     "metadata": {},
     "output_type": "execute_result"
    }
   ],
   "source": [
    "drug_data"
   ]
  },
  {
   "cell_type": "markdown",
   "id": "e30658f6",
   "metadata": {
    "papermill": {
     "duration": 0.004594,
     "end_time": "2024-04-14T13:17:28.081649",
     "exception": false,
     "start_time": "2024-04-14T13:17:28.077055",
     "status": "completed"
    },
    "tags": []
   },
   "source": [
    "# **Visualisation**"
   ]
  },
  {
   "cell_type": "code",
   "execution_count": 4,
   "id": "efd0d40a",
   "metadata": {
    "execution": {
     "iopub.execute_input": "2024-04-14T13:17:28.093317Z",
     "iopub.status.busy": "2024-04-14T13:17:28.092632Z",
     "iopub.status.idle": "2024-04-14T13:17:28.309391Z",
     "shell.execute_reply": "2024-04-14T13:17:28.308361Z"
    },
    "papermill": {
     "duration": 0.225374,
     "end_time": "2024-04-14T13:17:28.311759",
     "exception": false,
     "start_time": "2024-04-14T13:17:28.086385",
     "status": "completed"
    },
    "tags": []
   },
   "outputs": [
    {
     "data": {
      "image/png": "[encoded data removed]",
      "text/plain": [
       "<Figure size 600x400 with 1 Axes>"
      ]
     },
     "metadata": {},
     "output_type": "display_data"
    }
   ],
   "source": [
    "plt.figure(figsize=(6, 4,))\n",
    "sn.countplot(x='Drug', data=drug_data,\n",
    "             palette=\"BuGn_r\")\n",
    "plt.show()"
   ]
  },
  {
   "cell_type": "markdown",
   "id": "59437917",
   "metadata": {
    "papermill": {
     "duration": 0.0049,
     "end_time": "2024-04-14T13:17:28.321833",
     "exception": false,
     "start_time": "2024-04-14T13:17:28.316933",
     "status": "completed"
    },
    "tags": []
   },
   "source": [
    "# **Training the Data**"
   ]
  },
  {
   "cell_type": "code",
   "execution_count": 5,
   "id": "7e463a1e",
   "metadata": {
    "execution": {
     "iopub.execute_input": "2024-04-14T13:17:28.333537Z",
     "iopub.status.busy": "2024-04-14T13:17:28.333139Z",
     "iopub.status.idle": "2024-04-14T13:17:28.340051Z",
     "shell.execute_reply": "2024-04-14T13:17:28.339053Z"
    },
    "papermill": {
     "duration": 0.015349,
     "end_time": "2024-04-14T13:17:28.342145",
     "exception": false,
     "start_time": "2024-04-14T13:17:28.326796",
     "status": "completed"
    },
    "tags": []
   },
   "outputs": [],
   "source": [
    "target_value = drug_data[\"Drug\"]\n",
    "positive_data = drug_data.drop([\"Drug\"], axis = 1)"
   ]
  },
  {
   "cell_type": "code",
   "execution_count": 6,
   "id": "0e73a829",
   "metadata": {
    "execution": {
     "iopub.execute_input": "2024-04-14T13:17:28.353880Z",
     "iopub.status.busy": "2024-04-14T13:17:28.353506Z",
     "iopub.status.idle": "2024-04-14T13:17:28.361197Z",
     "shell.execute_reply": "2024-04-14T13:17:28.360147Z"
    },
    "papermill": {
     "duration": 0.016272,
     "end_time": "2024-04-14T13:17:28.363545",
     "exception": false,
     "start_time": "2024-04-14T13:17:28.347273",
     "status": "completed"
    },
    "tags": []
   },
   "outputs": [
    {
     "data": {
      "text/plain": [
       "0      DrugY\n",
       "1      drugC\n",
       "2      drugC\n",
       "3      drugX\n",
       "4      DrugY\n",
       "       ...  \n",
       "195    drugC\n",
       "196    drugC\n",
       "197    drugX\n",
       "198    drugX\n",
       "199    drugX\n",
       "Name: Drug, Length: 200, dtype: object"
      ]
     },
     "execution_count": 6,
     "metadata": {},
     "output_type": "execute_result"
    }
   ],
   "source": [
    "target_value"
   ]
  },
  {
   "cell_type": "code",
   "execution_count": 7,
   "id": "07a3ad59",
   "metadata": {
    "execution": {
     "iopub.execute_input": "2024-04-14T13:17:28.375643Z",
     "iopub.status.busy": "2024-04-14T13:17:28.375256Z",
     "iopub.status.idle": "2024-04-14T13:17:28.389454Z",
     "shell.execute_reply": "2024-04-14T13:17:28.388346Z"
    },
    "papermill": {
     "duration": 0.022924,
     "end_time": "2024-04-14T13:17:28.391595",
     "exception": false,
     "start_time": "2024-04-14T13:17:28.368671",
     "status": "completed"
    },
    "tags": []
   },
   "outputs": [
    {
     "data": {
      "text/html": [
       "<div>\n",
       "<style scoped>\n",
       "    .dataframe tbody tr th:only-of-type {\n",
       "        vertical-align: middle;\n",
       "    }\n",
       "\n",
       "    .dataframe tbody tr th {\n",
       "        vertical-align: top;\n",
       "    }\n",
       "\n",
       "    .dataframe thead th {\n",
       "        text-align: right;\n",
       "    }\n",
       "</style>\n",
       "<table border=\"1\" class=\"dataframe\">\n",
       "  <thead>\n",
       "    <tr style=\"text-align: right;\">\n",
       "      <th></th>\n",
       "      <th>Age</th>\n",
       "      <th>Sex</th>\n",
       "      <th>BP</th>\n",
       "      <th>Cholesterol</th>\n",
       "      <th>Na_to_K</th>\n",
       "    </tr>\n",
       "  </thead>\n",
       "  <tbody>\n",
       "    <tr>\n",
       "      <th>0</th>\n",
       "      <td>23</td>\n",
       "      <td>F</td>\n",
       "      <td>HIGH</td>\n",
       "      <td>HIGH</td>\n",
       "      <td>25.355</td>\n",
       "    </tr>\n",
       "    <tr>\n",
       "      <th>1</th>\n",
       "      <td>47</td>\n",
       "      <td>M</td>\n",
       "      <td>LOW</td>\n",
       "      <td>HIGH</td>\n",
       "      <td>13.093</td>\n",
       "    </tr>\n",
       "    <tr>\n",
       "      <th>2</th>\n",
       "      <td>47</td>\n",
       "      <td>M</td>\n",
       "      <td>LOW</td>\n",
       "      <td>HIGH</td>\n",
       "      <td>10.114</td>\n",
       "    </tr>\n",
       "    <tr>\n",
       "      <th>3</th>\n",
       "      <td>28</td>\n",
       "      <td>F</td>\n",
       "      <td>NORMAL</td>\n",
       "      <td>HIGH</td>\n",
       "      <td>7.798</td>\n",
       "    </tr>\n",
       "    <tr>\n",
       "      <th>4</th>\n",
       "      <td>61</td>\n",
       "      <td>F</td>\n",
       "      <td>LOW</td>\n",
       "      <td>HIGH</td>\n",
       "      <td>18.043</td>\n",
       "    </tr>\n",
       "    <tr>\n",
       "      <th>...</th>\n",
       "      <td>...</td>\n",
       "      <td>...</td>\n",
       "      <td>...</td>\n",
       "      <td>...</td>\n",
       "      <td>...</td>\n",
       "    </tr>\n",
       "    <tr>\n",
       "      <th>195</th>\n",
       "      <td>56</td>\n",
       "      <td>F</td>\n",
       "      <td>LOW</td>\n",
       "      <td>HIGH</td>\n",
       "      <td>11.567</td>\n",
       "    </tr>\n",
       "    <tr>\n",
       "      <th>196</th>\n",
       "      <td>16</td>\n",
       "      <td>M</td>\n",
       "      <td>LOW</td>\n",
       "      <td>HIGH</td>\n",
       "      <td>12.006</td>\n",
       "    </tr>\n",
       "    <tr>\n",
       "      <th>197</th>\n",
       "      <td>52</td>\n",
       "      <td>M</td>\n",
       "      <td>NORMAL</td>\n",
       "      <td>HIGH</td>\n",
       "      <td>9.894</td>\n",
       "    </tr>\n",
       "    <tr>\n",
       "      <th>198</th>\n",
       "      <td>23</td>\n",
       "      <td>M</td>\n",
       "      <td>NORMAL</td>\n",
       "      <td>NORMAL</td>\n",
       "      <td>14.020</td>\n",
       "    </tr>\n",
       "    <tr>\n",
       "      <th>199</th>\n",
       "      <td>40</td>\n",
       "      <td>F</td>\n",
       "      <td>LOW</td>\n",
       "      <td>NORMAL</td>\n",
       "      <td>11.349</td>\n",
       "    </tr>\n",
       "  </tbody>\n",
       "</table>\n",
       "<p>200 rows × 5 columns</p>\n",
       "</div>"
      ],
      "text/plain": [
       "     Age Sex      BP Cholesterol  Na_to_K\n",
       "0     23   F    HIGH        HIGH   25.355\n",
       "1     47   M     LOW        HIGH   13.093\n",
       "2     47   M     LOW        HIGH   10.114\n",
       "3     28   F  NORMAL        HIGH    7.798\n",
       "4     61   F     LOW        HIGH   18.043\n",
       "..   ...  ..     ...         ...      ...\n",
       "195   56   F     LOW        HIGH   11.567\n",
       "196   16   M     LOW        HIGH   12.006\n",
       "197   52   M  NORMAL        HIGH    9.894\n",
       "198   23   M  NORMAL      NORMAL   14.020\n",
       "199   40   F     LOW      NORMAL   11.349\n",
       "\n",
       "[200 rows x 5 columns]"
      ]
     },
     "execution_count": 7,
     "metadata": {},
     "output_type": "execute_result"
    }
   ],
   "source": [
    "positive_data"
   ]
  },
  {
   "cell_type": "markdown",
   "id": "f6f73793",
   "metadata": {
    "papermill": {
     "duration": 0.005102,
     "end_time": "2024-04-14T13:17:28.402126",
     "exception": false,
     "start_time": "2024-04-14T13:17:28.397024",
     "status": "completed"
    },
    "tags": []
   },
   "source": [
    "# **Converting Non-Numerical Values**"
   ]
  },
  {
   "cell_type": "code",
   "execution_count": 8,
   "id": "cf3fbebc",
   "metadata": {
    "execution": {
     "iopub.execute_input": "2024-04-14T13:17:28.414125Z",
     "iopub.status.busy": "2024-04-14T13:17:28.413753Z",
     "iopub.status.idle": "2024-04-14T13:17:28.642384Z",
     "shell.execute_reply": "2024-04-14T13:17:28.640971Z"
    },
    "papermill": {
     "duration": 0.237693,
     "end_time": "2024-04-14T13:17:28.644974",
     "exception": false,
     "start_time": "2024-04-14T13:17:28.407281",
     "status": "completed"
    },
    "tags": []
   },
   "outputs": [],
   "source": [
    "from sklearn.preprocessing import LabelEncoder\n",
    "\n",
    "nan_conv= LabelEncoder()\n",
    "\n",
    "positive_data[\"Sex\"] = nan_conv.fit_transform(positive_data[\"Sex\"])\n",
    "positive_data[\"BP\"] = nan_conv.fit_transform(positive_data[\"BP\"])\n",
    "positive_data[\"Cholesterol\"] = nan_conv.fit_transform(positive_data[\"Cholesterol\"])"
   ]
  },
  {
   "cell_type": "code",
   "execution_count": 9,
   "id": "7400e42e",
   "metadata": {
    "execution": {
     "iopub.execute_input": "2024-04-14T13:17:28.658423Z",
     "iopub.status.busy": "2024-04-14T13:17:28.658038Z",
     "iopub.status.idle": "2024-04-14T13:17:28.671155Z",
     "shell.execute_reply": "2024-04-14T13:17:28.669929Z"
    },
    "papermill": {
     "duration": 0.021651,
     "end_time": "2024-04-14T13:17:28.673232",
     "exception": false,
     "start_time": "2024-04-14T13:17:28.651581",
     "status": "completed"
    },
    "tags": []
   },
   "outputs": [
    {
     "data": {
      "text/html": [
       "<div>\n",
       "<style scoped>\n",
       "    .dataframe tbody tr th:only-of-type {\n",
       "        vertical-align: middle;\n",
       "    }\n",
       "\n",
       "    .dataframe tbody tr th {\n",
       "        vertical-align: top;\n",
       "    }\n",
       "\n",
       "    .dataframe thead th {\n",
       "        text-align: right;\n",
       "    }\n",
       "</style>\n",
       "<table border=\"1\" class=\"dataframe\">\n",
       "  <thead>\n",
       "    <tr style=\"text-align: right;\">\n",
       "      <th></th>\n",
       "      <th>Age</th>\n",
       "      <th>Sex</th>\n",
       "      <th>BP</th>\n",
       "      <th>Cholesterol</th>\n",
       "      <th>Na_to_K</th>\n",
       "    </tr>\n",
       "  </thead>\n",
       "  <tbody>\n",
       "    <tr>\n",
       "      <th>0</th>\n",
       "      <td>23</td>\n",
       "      <td>0</td>\n",
       "      <td>0</td>\n",
       "      <td>0</td>\n",
       "      <td>25.355</td>\n",
       "    </tr>\n",
       "    <tr>\n",
       "      <th>1</th>\n",
       "      <td>47</td>\n",
       "      <td>1</td>\n",
       "      <td>1</td>\n",
       "      <td>0</td>\n",
       "      <td>13.093</td>\n",
       "    </tr>\n",
       "    <tr>\n",
       "      <th>2</th>\n",
       "      <td>47</td>\n",
       "      <td>1</td>\n",
       "      <td>1</td>\n",
       "      <td>0</td>\n",
       "      <td>10.114</td>\n",
       "    </tr>\n",
       "    <tr>\n",
       "      <th>3</th>\n",
       "      <td>28</td>\n",
       "      <td>0</td>\n",
       "      <td>2</td>\n",
       "      <td>0</td>\n",
       "      <td>7.798</td>\n",
       "    </tr>\n",
       "    <tr>\n",
       "      <th>4</th>\n",
       "      <td>61</td>\n",
       "      <td>0</td>\n",
       "      <td>1</td>\n",
       "      <td>0</td>\n",
       "      <td>18.043</td>\n",
       "    </tr>\n",
       "    <tr>\n",
       "      <th>...</th>\n",
       "      <td>...</td>\n",
       "      <td>...</td>\n",
       "      <td>...</td>\n",
       "      <td>...</td>\n",
       "      <td>...</td>\n",
       "    </tr>\n",
       "    <tr>\n",
       "      <th>195</th>\n",
       "      <td>56</td>\n",
       "      <td>0</td>\n",
       "      <td>1</td>\n",
       "      <td>0</td>\n",
       "      <td>11.567</td>\n",
       "    </tr>\n",
       "    <tr>\n",
       "      <th>196</th>\n",
       "      <td>16</td>\n",
       "      <td>1</td>\n",
       "      <td>1</td>\n",
       "      <td>0</td>\n",
       "      <td>12.006</td>\n",
       "    </tr>\n",
       "    <tr>\n",
       "      <th>197</th>\n",
       "      <td>52</td>\n",
       "      <td>1</td>\n",
       "      <td>2</td>\n",
       "      <td>0</td>\n",
       "      <td>9.894</td>\n",
       "    </tr>\n",
       "    <tr>\n",
       "      <th>198</th>\n",
       "      <td>23</td>\n",
       "      <td>1</td>\n",
       "      <td>2</td>\n",
       "      <td>1</td>\n",
       "      <td>14.020</td>\n",
       "    </tr>\n",
       "    <tr>\n",
       "      <th>199</th>\n",
       "      <td>40</td>\n",
       "      <td>0</td>\n",
       "      <td>1</td>\n",
       "      <td>1</td>\n",
       "      <td>11.349</td>\n",
       "    </tr>\n",
       "  </tbody>\n",
       "</table>\n",
       "<p>200 rows × 5 columns</p>\n",
       "</div>"
      ],
      "text/plain": [
       "     Age  Sex  BP  Cholesterol  Na_to_K\n",
       "0     23    0   0            0   25.355\n",
       "1     47    1   1            0   13.093\n",
       "2     47    1   1            0   10.114\n",
       "3     28    0   2            0    7.798\n",
       "4     61    0   1            0   18.043\n",
       "..   ...  ...  ..          ...      ...\n",
       "195   56    0   1            0   11.567\n",
       "196   16    1   1            0   12.006\n",
       "197   52    1   2            0    9.894\n",
       "198   23    1   2            1   14.020\n",
       "199   40    0   1            1   11.349\n",
       "\n",
       "[200 rows x 5 columns]"
      ]
     },
     "execution_count": 9,
     "metadata": {},
     "output_type": "execute_result"
    }
   ],
   "source": [
    "positive_data"
   ]
  },
  {
   "cell_type": "markdown",
   "id": "c9eb645e",
   "metadata": {
    "papermill": {
     "duration": 0.005377,
     "end_time": "2024-04-14T13:17:28.684270",
     "exception": false,
     "start_time": "2024-04-14T13:17:28.678893",
     "status": "completed"
    },
    "tags": []
   },
   "source": [
    "# **Scaling the Data**"
   ]
  },
  {
   "cell_type": "code",
   "execution_count": 10,
   "id": "25934766",
   "metadata": {
    "execution": {
     "iopub.execute_input": "2024-04-14T13:17:28.696876Z",
     "iopub.status.busy": "2024-04-14T13:17:28.696472Z",
     "iopub.status.idle": "2024-04-14T13:17:28.705012Z",
     "shell.execute_reply": "2024-04-14T13:17:28.703958Z"
    },
    "papermill": {
     "duration": 0.017203,
     "end_time": "2024-04-14T13:17:28.707000",
     "exception": false,
     "start_time": "2024-04-14T13:17:28.689797",
     "status": "completed"
    },
    "tags": []
   },
   "outputs": [],
   "source": [
    "from sklearn.preprocessing import StandardScaler\n",
    "scaler = StandardScaler()\n",
    "positive_data = scaler.fit_transform(positive_data)"
   ]
  },
  {
   "cell_type": "markdown",
   "id": "434519de",
   "metadata": {
    "papermill": {
     "duration": 0.005266,
     "end_time": "2024-04-14T13:17:28.718019",
     "exception": false,
     "start_time": "2024-04-14T13:17:28.712753",
     "status": "completed"
    },
    "tags": []
   },
   "source": [
    "# **Splitting the Data**"
   ]
  },
  {
   "cell_type": "code",
   "execution_count": 11,
   "id": "78a5b231",
   "metadata": {
    "execution": {
     "iopub.execute_input": "2024-04-14T13:17:28.730514Z",
     "iopub.status.busy": "2024-04-14T13:17:28.730127Z",
     "iopub.status.idle": "2024-04-14T13:17:28.827199Z",
     "shell.execute_reply": "2024-04-14T13:17:28.826383Z"
    },
    "papermill": {
     "duration": 0.105919,
     "end_time": "2024-04-14T13:17:28.829385",
     "exception": false,
     "start_time": "2024-04-14T13:17:28.723466",
     "status": "completed"
    },
    "tags": []
   },
   "outputs": [],
   "source": [
    "from sklearn.model_selection import train_test_split\n",
    "X_train, X_test, Y_train, Y_test = train_test_split(positive_data, target_value, test_size=0.2, random_state=3)"
   ]
  },
  {
   "cell_type": "markdown",
   "id": "8066c8af",
   "metadata": {
    "papermill": {
     "duration": 0.005291,
     "end_time": "2024-04-14T13:17:28.840351",
     "exception": false,
     "start_time": "2024-04-14T13:17:28.835060",
     "status": "completed"
    },
    "tags": []
   },
   "source": [
    "# **Machine Learning Model**"
   ]
  },
  {
   "cell_type": "code",
   "execution_count": 12,
   "id": "1f85aa34",
   "metadata": {
    "execution": {
     "iopub.execute_input": "2024-04-14T13:17:28.853164Z",
     "iopub.status.busy": "2024-04-14T13:17:28.852767Z",
     "iopub.status.idle": "2024-04-14T13:17:28.955598Z",
     "shell.execute_reply": "2024-04-14T13:17:28.954548Z"
    },
    "papermill": {
     "duration": 0.111717,
     "end_time": "2024-04-14T13:17:28.957721",
     "exception": false,
     "start_time": "2024-04-14T13:17:28.846004",
     "status": "completed"
    },
    "tags": []
   },
   "outputs": [
    {
     "name": "stdout",
     "output_type": "stream",
     "text": [
      "0.975\n"
     ]
    }
   ],
   "source": [
    "from sklearn.linear_model import LogisticRegression\n",
    "from sklearn.metrics import accuracy_score\n",
    "\n",
    "logistic_regression = LogisticRegression()\n",
    "logistic_regression.fit(X_train, Y_train)\n",
    "prediction = logistic_regression.predict(X_test)\n",
    "accuracy = accuracy_score(Y_test, prediction)\n",
    "print(accuracy)"
   ]
  }
 ],
 "metadata": {
  "kaggle": {
   "accelerator": "none",
   "dataSources": [
    {
     "datasetId": 4795320,
     "sourceId": 8116425,
     "sourceType": "datasetVersion"
    }
   ],
   "dockerImageVersionId": 30684,
   "isGpuEnabled": false,
   "isInternetEnabled": true,
   "language": "python",
   "sourceType": "notebook"
  },
  "kernelspec": {
   "display_name": "Python 3",
   "language": "python",
   "name": "python3"
  },
  "language_info": {
   "codemirror_mode": {
    "name": "ipython",
    "version": 3
   },
   "file_extension": ".py",
   "mimetype": "text/x-python",
   "name": "python",
   "nbconvert_exporter": "python",
   "pygments_lexer": "ipython3",
   "version": "3.10.13"
  },
  "papermill": {
   "default_parameters": {},
   "duration": 6.470649,
   "end_time": "2024-04-14T13:17:29.484270",
   "environment_variables": {},
   "exception": null,
   "input_path": "__notebook__.ipynb",
   "output_path": "__notebook__.ipynb",
   "parameters": {},
   "start_time": "2024-04-14T13:17:23.013621",
   "version": "2.5.0"
  }
 },
 "nbformat": 4,
 "nbformat_minor": 5
}
